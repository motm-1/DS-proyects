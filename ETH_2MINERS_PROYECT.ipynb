{
  "nbformat": 4,
  "nbformat_minor": 0,
  "metadata": {
    "colab": {
      "name": "ETH_2MINERS_PROYECT",
      "provenance": [],
      "collapsed_sections": [],
      "mount_file_id": "1TBuRx19Ri2757jY79ctJWRNJF_RBOsQp",
      "authorship_tag": "ABX9TyPkyRigb/hM0vX+NTd9TpdQ",
      "include_colab_link": true
    },
    "kernelspec": {
      "name": "python3",
      "display_name": "Python 3"
    },
    "language_info": {
      "name": "python"
    }
  },
  "cells": [
    {
      "cell_type": "markdown",
      "metadata": {
        "id": "view-in-github",
        "colab_type": "text"
      },
      "source": [
        "<a href=\"https://colab.research.google.com/github/motm-1/Proyect_ETH/blob/main/ETH_2MINERS_PROYECT.ipynb\" target=\"_parent\"><img src=\"https://colab.research.google.com/assets/colab-badge.svg\" alt=\"Open In Colab\"/></a>"
      ]
    },
    {
      "cell_type": "code",
      "execution_count": null,
      "metadata": {
        "id": "YW6Wxmbe0Dg3"
      },
      "outputs": [],
      "source": [
        "#import libraries\n",
        "import numpy as np\n",
        "import pandas as pd\n",
        "import matplotlib.pyplot as plt\n",
        "import seaborn as sns\n",
        "import requests\n",
        "import time\n",
        "from google.colab import files\n",
        "from sklearn.preprocessing import StandardScaler"
      ]
    },
    {
      "cell_type": "code",
      "source": [
        "#Keys\n",
        "API_KEY = 'C2G6I46K8BJC2VPJWMQ59KQ8U3DWQC9XVS'\n",
        "#myurl = 'https://eth.2miners.com/api/accounts/0xad3f0d4dfbfa0199736a270c1ec08bf373478faa'  global eth\n",
        "eth_2miners = 1000000000\n",
        "eth_etherscan = 1000000000000000000"
      ],
      "metadata": {
        "id": "t7e2Wmcm0LnG"
      },
      "execution_count": null,
      "outputs": []
    },
    {
      "cell_type": "code",
      "source": [
        "#make API call\n",
        "\n",
        "def get_eth_addresses():\n",
        "\n",
        "  eth_addresses = []\n",
        "  url = 'https://eth.2miners.com/api/miners'\n",
        "\n",
        "  response = requests.get(url).json()\n",
        "\n",
        "  addresses = response['miners'].keys()\n",
        "  addresses = list(addresses)\n",
        "\n",
        "  for x in addresses:\n",
        "    if x.find('0x') == 0:\n",
        "      eth_addresses.append(x)\n",
        "    else:\n",
        "      pass\n",
        "\n",
        "  return pd.Series(eth_addresses)"
      ],
      "metadata": {
        "id": "1o0v2eSJRQVq"
      },
      "execution_count": null,
      "outputs": []
    },
    {
      "cell_type": "code",
      "source": [
        "#second API call\n",
        "\n",
        "def get_eth_per_month(eth_addresses,range_start,range_end):\n",
        "  eth_per_month = []\n",
        "\n",
        "  for address in eth_addresses[range_start:range_end]:    \n",
        "    url = 'https://eth.2miners.com/api/accounts/'+address\n",
        "    response = requests.get(url)\n",
        "\n",
        "    if response.status_code == 200:\n",
        "      response = response.json()\n",
        "      my_df = pd.DataFrame(response['sumrewards'])\n",
        "      my_df = my_df['reward']/eth_2miners\n",
        "      eth_per_month.append(my_df.iloc[4])\n",
        "      \n",
        "    else:\n",
        "      eth_per_month.append(0)\n",
        "\n",
        "  return pd.Series(eth_per_month)"
      ],
      "metadata": {
        "id": "4wE1KWup02I-"
      },
      "execution_count": null,
      "outputs": []
    },
    {
      "cell_type": "code",
      "source": [
        "#Etherscan API call\n",
        "\n",
        "def get_eth_current_balance(eth_addresses):\n",
        "  eth_current_balance = pd.Series(dtype='int')\n",
        "  x = 0\n",
        "  y = 20\n",
        "  z = len(eth_addresses.iloc[::20]) * 20 - 20\n",
        "\n",
        "  for x in range(0,z,20):\n",
        "    to_call = eth_addresses.iloc[x:y]\n",
        "    x += 20\n",
        "    y += 20\n",
        "    url = 'https://api.etherscan.io/api?module=account&action=balancemulti&address='+to_call.iloc[0]+','+to_call.iloc[1]+','+to_call.iloc[2]+','+to_call.iloc[3]+','+to_call.iloc[4]+','+to_call.iloc[5]+','+to_call.iloc[6]+','+to_call.iloc[7]+','+to_call.iloc[8]+','+to_call.iloc[9]+','+to_call.iloc[10]+','+to_call.iloc[11]+','+to_call.iloc[12]+','+to_call.iloc[13]+','+to_call.iloc[14]+','+to_call.iloc[15]+','+to_call.iloc[16]+','+to_call.iloc[17]+','+to_call.iloc[18]+','+to_call.iloc[19]+'&tag=latest&apikey='+API_KEY\n",
        "\n",
        "    response = requests.get(url).json()\n",
        "    my_df = pd.DataFrame(response['result'])\n",
        "    my_df.drop(columns='account', inplace=True)\n",
        "    my_df = pd.Series(my_df['balance'])\n",
        "    eth_current_balance = eth_current_balance.append(my_df)\n",
        "\n",
        "  eth_rest_current_balance = []\n",
        "\n",
        "  for x in range(z, len(eth_addresses)):\n",
        "    url = 'https://api.etherscan.io/api?module=account&action=balance&address='+eth_addresses.iloc[x]+'&tag=latest&apikey='+API_KEY\n",
        "    response = requests.get(url).json()\n",
        "    eth_rest_current_balance.append(response['result'])\n",
        "\n",
        "  eth_rest_current_balance = pd.Series(eth_rest_current_balance)\n",
        "  eth_current_balance = pd.concat([eth_current_balance, eth_rest_current_balance], ignore_index=True)\n",
        "  \n",
        "  return eth_current_balance"
      ],
      "metadata": {
        "id": "BV3TyHPeJHAT"
      },
      "execution_count": null,
      "outputs": []
    },
    {
      "cell_type": "code",
      "source": [
        "#download csv\n",
        "\n",
        "def download_csv(to_download,name):\n",
        "  to_download.to_csv(f'{name}.csv')\n",
        "  files.download(f'{name}.csv')"
      ],
      "metadata": {
        "id": "gifmI-egFAOO"
      },
      "execution_count": null,
      "outputs": []
    },
    {
      "cell_type": "code",
      "source": [
        "# get ALL DATA from google drive\n",
        "ETH_Data = pd.read_csv(r'/content/drive/MyDrive/ETH_DATA/ETH_Data.csv', index_col=0)"
      ],
      "metadata": {
        "id": "ou2XfWspipVJ"
      },
      "execution_count": null,
      "outputs": []
    },
    {
      "cell_type": "code",
      "source": [
        "# get eth address from google drive\n",
        "eth_addresses = pd.read_csv(r\"/content/drive/MyDrive/ETH_DATA/eth_addresses.csv\", index_col=0)"
      ],
      "metadata": {
        "id": "_h6NMn7gD21m"
      },
      "execution_count": null,
      "outputs": []
    },
    {
      "cell_type": "code",
      "source": [
        "# get eth mined per month from google drive\n",
        "eth_per_month = pd.read_csv(r\"/content/drive/MyDrive/ETH_DATA/eth_per_month.csv\",index_col=0)"
      ],
      "metadata": {
        "id": "t8Q7FtOZwUkn"
      },
      "execution_count": null,
      "outputs": []
    },
    {
      "cell_type": "code",
      "source": [
        "# eth eth balance from google drive\n",
        "eth_balance = pd.read(r\"/content/drive/MyDrive/ETH_DATA/eth_balance.csv\",index_col=0)"
      ],
      "metadata": {
        "id": "uliSFFWhifa8"
      },
      "execution_count": null,
      "outputs": []
    },
    {
      "cell_type": "code",
      "source": [
        "ETH_Data"
      ],
      "metadata": {
        "colab": {
          "base_uri": "https://localhost:8080/",
          "height": 424
        },
        "id": "uanktiXplqzi",
        "outputId": "2f87b7d9-336f-4472-9fe5-e33f8f7d68f7"
      },
      "execution_count": null,
      "outputs": [
        {
          "output_type": "execute_result",
          "data": {
            "text/plain": [
              "                                      ETH_address  ETH_mined_last_month  \\\n",
              "0      0x000158342dca155ad497ec7399b7f79857402c57              0.145222   \n",
              "1      0x0001efce56eaa28fd5fee19b4e3af41f25033b06              0.024253   \n",
              "2      0x0002dbaddf1dacec07da3763211454b9957e67c0              0.022877   \n",
              "3      0x000323e1c3728b8f8af17baf0b0c0392e90e73ef              0.072669   \n",
              "4      0x00033881a4579d787d6758afa0f6184e50ea7923              0.143161   \n",
              "...                                           ...                   ...   \n",
              "54462  0xfffbfd18e5ece549696e09395a8321391fba710e              0.299848   \n",
              "54463  0xfffbfea8f5b9ce6d67e62dd9920a2b866d0bc070              0.092846   \n",
              "54464  0xfffcd3ac3762af104b18852b7fb1723843d968d2              0.039395   \n",
              "54465  0xfffe2d500329983ab3750ec310a722540fea1098              0.079058   \n",
              "54466  0xffff3fae587001ba8025b8e107be54a4503261b4              0.372663   \n",
              "\n",
              "       ETH_current_balance  \n",
              "0             0.000000e+00  \n",
              "1             4.339425e-02  \n",
              "2             1.962510e-01  \n",
              "3             3.853435e-01  \n",
              "4             1.840000e-07  \n",
              "...                    ...  \n",
              "54462         6.870220e+00  \n",
              "54463         5.928242e-02  \n",
              "54464         0.000000e+00  \n",
              "54465         3.470030e-06  \n",
              "54466         4.989280e-09  \n",
              "\n",
              "[54467 rows x 3 columns]"
            ],
            "text/html": [
              "\n",
              "  <div id=\"df-58a55036-1b2e-41ce-a41e-066c8732cb3d\">\n",
              "    <div class=\"colab-df-container\">\n",
              "      <div>\n",
              "<style scoped>\n",
              "    .dataframe tbody tr th:only-of-type {\n",
              "        vertical-align: middle;\n",
              "    }\n",
              "\n",
              "    .dataframe tbody tr th {\n",
              "        vertical-align: top;\n",
              "    }\n",
              "\n",
              "    .dataframe thead th {\n",
              "        text-align: right;\n",
              "    }\n",
              "</style>\n",
              "<table border=\"1\" class=\"dataframe\">\n",
              "  <thead>\n",
              "    <tr style=\"text-align: right;\">\n",
              "      <th></th>\n",
              "      <th>ETH_address</th>\n",
              "      <th>ETH_mined_last_month</th>\n",
              "      <th>ETH_current_balance</th>\n",
              "    </tr>\n",
              "  </thead>\n",
              "  <tbody>\n",
              "    <tr>\n",
              "      <th>0</th>\n",
              "      <td>0x000158342dca155ad497ec7399b7f79857402c57</td>\n",
              "      <td>0.145222</td>\n",
              "      <td>0.000000e+00</td>\n",
              "    </tr>\n",
              "    <tr>\n",
              "      <th>1</th>\n",
              "      <td>0x0001efce56eaa28fd5fee19b4e3af41f25033b06</td>\n",
              "      <td>0.024253</td>\n",
              "      <td>4.339425e-02</td>\n",
              "    </tr>\n",
              "    <tr>\n",
              "      <th>2</th>\n",
              "      <td>0x0002dbaddf1dacec07da3763211454b9957e67c0</td>\n",
              "      <td>0.022877</td>\n",
              "      <td>1.962510e-01</td>\n",
              "    </tr>\n",
              "    <tr>\n",
              "      <th>3</th>\n",
              "      <td>0x000323e1c3728b8f8af17baf0b0c0392e90e73ef</td>\n",
              "      <td>0.072669</td>\n",
              "      <td>3.853435e-01</td>\n",
              "    </tr>\n",
              "    <tr>\n",
              "      <th>4</th>\n",
              "      <td>0x00033881a4579d787d6758afa0f6184e50ea7923</td>\n",
              "      <td>0.143161</td>\n",
              "      <td>1.840000e-07</td>\n",
              "    </tr>\n",
              "    <tr>\n",
              "      <th>...</th>\n",
              "      <td>...</td>\n",
              "      <td>...</td>\n",
              "      <td>...</td>\n",
              "    </tr>\n",
              "    <tr>\n",
              "      <th>54462</th>\n",
              "      <td>0xfffbfd18e5ece549696e09395a8321391fba710e</td>\n",
              "      <td>0.299848</td>\n",
              "      <td>6.870220e+00</td>\n",
              "    </tr>\n",
              "    <tr>\n",
              "      <th>54463</th>\n",
              "      <td>0xfffbfea8f5b9ce6d67e62dd9920a2b866d0bc070</td>\n",
              "      <td>0.092846</td>\n",
              "      <td>5.928242e-02</td>\n",
              "    </tr>\n",
              "    <tr>\n",
              "      <th>54464</th>\n",
              "      <td>0xfffcd3ac3762af104b18852b7fb1723843d968d2</td>\n",
              "      <td>0.039395</td>\n",
              "      <td>0.000000e+00</td>\n",
              "    </tr>\n",
              "    <tr>\n",
              "      <th>54465</th>\n",
              "      <td>0xfffe2d500329983ab3750ec310a722540fea1098</td>\n",
              "      <td>0.079058</td>\n",
              "      <td>3.470030e-06</td>\n",
              "    </tr>\n",
              "    <tr>\n",
              "      <th>54466</th>\n",
              "      <td>0xffff3fae587001ba8025b8e107be54a4503261b4</td>\n",
              "      <td>0.372663</td>\n",
              "      <td>4.989280e-09</td>\n",
              "    </tr>\n",
              "  </tbody>\n",
              "</table>\n",
              "<p>54467 rows × 3 columns</p>\n",
              "</div>\n",
              "      <button class=\"colab-df-convert\" onclick=\"convertToInteractive('df-58a55036-1b2e-41ce-a41e-066c8732cb3d')\"\n",
              "              title=\"Convert this dataframe to an interactive table.\"\n",
              "              style=\"display:none;\">\n",
              "        \n",
              "  <svg xmlns=\"http://www.w3.org/2000/svg\" height=\"24px\"viewBox=\"0 0 24 24\"\n",
              "       width=\"24px\">\n",
              "    <path d=\"M0 0h24v24H0V0z\" fill=\"none\"/>\n",
              "    <path d=\"M18.56 5.44l.94 2.06.94-2.06 2.06-.94-2.06-.94-.94-2.06-.94 2.06-2.06.94zm-11 1L8.5 8.5l.94-2.06 2.06-.94-2.06-.94L8.5 2.5l-.94 2.06-2.06.94zm10 10l.94 2.06.94-2.06 2.06-.94-2.06-.94-.94-2.06-.94 2.06-2.06.94z\"/><path d=\"M17.41 7.96l-1.37-1.37c-.4-.4-.92-.59-1.43-.59-.52 0-1.04.2-1.43.59L10.3 9.45l-7.72 7.72c-.78.78-.78 2.05 0 2.83L4 21.41c.39.39.9.59 1.41.59.51 0 1.02-.2 1.41-.59l7.78-7.78 2.81-2.81c.8-.78.8-2.07 0-2.86zM5.41 20L4 18.59l7.72-7.72 1.47 1.35L5.41 20z\"/>\n",
              "  </svg>\n",
              "      </button>\n",
              "      \n",
              "  <style>\n",
              "    .colab-df-container {\n",
              "      display:flex;\n",
              "      flex-wrap:wrap;\n",
              "      gap: 12px;\n",
              "    }\n",
              "\n",
              "    .colab-df-convert {\n",
              "      background-color: #E8F0FE;\n",
              "      border: none;\n",
              "      border-radius: 50%;\n",
              "      cursor: pointer;\n",
              "      display: none;\n",
              "      fill: #1967D2;\n",
              "      height: 32px;\n",
              "      padding: 0 0 0 0;\n",
              "      width: 32px;\n",
              "    }\n",
              "\n",
              "    .colab-df-convert:hover {\n",
              "      background-color: #E2EBFA;\n",
              "      box-shadow: 0px 1px 2px rgba(60, 64, 67, 0.3), 0px 1px 3px 1px rgba(60, 64, 67, 0.15);\n",
              "      fill: #174EA6;\n",
              "    }\n",
              "\n",
              "    [theme=dark] .colab-df-convert {\n",
              "      background-color: #3B4455;\n",
              "      fill: #D2E3FC;\n",
              "    }\n",
              "\n",
              "    [theme=dark] .colab-df-convert:hover {\n",
              "      background-color: #434B5C;\n",
              "      box-shadow: 0px 1px 3px 1px rgba(0, 0, 0, 0.15);\n",
              "      filter: drop-shadow(0px 1px 2px rgba(0, 0, 0, 0.3));\n",
              "      fill: #FFFFFF;\n",
              "    }\n",
              "  </style>\n",
              "\n",
              "      <script>\n",
              "        const buttonEl =\n",
              "          document.querySelector('#df-58a55036-1b2e-41ce-a41e-066c8732cb3d button.colab-df-convert');\n",
              "        buttonEl.style.display =\n",
              "          google.colab.kernel.accessAllowed ? 'block' : 'none';\n",
              "\n",
              "        async function convertToInteractive(key) {\n",
              "          const element = document.querySelector('#df-58a55036-1b2e-41ce-a41e-066c8732cb3d');\n",
              "          const dataTable =\n",
              "            await google.colab.kernel.invokeFunction('convertToInteractive',\n",
              "                                                     [key], {});\n",
              "          if (!dataTable) return;\n",
              "\n",
              "          const docLinkHtml = 'Like what you see? Visit the ' +\n",
              "            '<a target=\"_blank\" href=https://colab.research.google.com/notebooks/data_table.ipynb>data table notebook</a>'\n",
              "            + ' to learn more about interactive tables.';\n",
              "          element.innerHTML = '';\n",
              "          dataTable['output_type'] = 'display_data';\n",
              "          await google.colab.output.renderOutput(dataTable, element);\n",
              "          const docLink = document.createElement('div');\n",
              "          docLink.innerHTML = docLinkHtml;\n",
              "          element.appendChild(docLink);\n",
              "        }\n",
              "      </script>\n",
              "    </div>\n",
              "  </div>\n",
              "  "
            ]
          },
          "metadata": {},
          "execution_count": 4
        }
      ]
    },
    {
      "cell_type": "markdown",
      "source": [
        "#General vision of the dataset"
      ],
      "metadata": {
        "id": "VAiNzQ3makAa"
      }
    },
    {
      "cell_type": "code",
      "source": [
        "ETH_Data.dtypes"
      ],
      "metadata": {
        "colab": {
          "base_uri": "https://localhost:8080/"
        },
        "id": "zT7uKbhta5Ic",
        "outputId": "36025690-cda6-4fb1-e71f-6a049b072d70"
      },
      "execution_count": null,
      "outputs": [
        {
          "output_type": "execute_result",
          "data": {
            "text/plain": [
              "ETH_address              object\n",
              "ETH_mined_last_month    float64\n",
              "ETH_current_balance     float64\n",
              "dtype: object"
            ]
          },
          "metadata": {},
          "execution_count": 28
        }
      ]
    },
    {
      "cell_type": "code",
      "source": [
        "ETH_Data.describe()"
      ],
      "metadata": {
        "colab": {
          "base_uri": "https://localhost:8080/",
          "height": 300
        },
        "id": "jRZqKr_i_PTN",
        "outputId": "2b7e5049-b193-45a9-f52e-c2417e1cdf48"
      },
      "execution_count": null,
      "outputs": [
        {
          "output_type": "execute_result",
          "data": {
            "text/plain": [
              "       ETH_mined_last_month  ETH_current_balance\n",
              "count          54467.000000         54467.000000\n",
              "mean               0.307325             1.095947\n",
              "std                2.850342            26.015356\n",
              "min                0.000004             0.000000\n",
              "25%                0.043689             0.006204\n",
              "50%                0.103625             0.191024\n",
              "75%                0.238627             0.530049\n",
              "max              553.089383          5517.285884"
            ],
            "text/html": [
              "\n",
              "  <div id=\"df-16eb3f7b-0c74-4fa2-bc24-8457edc122c8\">\n",
              "    <div class=\"colab-df-container\">\n",
              "      <div>\n",
              "<style scoped>\n",
              "    .dataframe tbody tr th:only-of-type {\n",
              "        vertical-align: middle;\n",
              "    }\n",
              "\n",
              "    .dataframe tbody tr th {\n",
              "        vertical-align: top;\n",
              "    }\n",
              "\n",
              "    .dataframe thead th {\n",
              "        text-align: right;\n",
              "    }\n",
              "</style>\n",
              "<table border=\"1\" class=\"dataframe\">\n",
              "  <thead>\n",
              "    <tr style=\"text-align: right;\">\n",
              "      <th></th>\n",
              "      <th>ETH_mined_last_month</th>\n",
              "      <th>ETH_current_balance</th>\n",
              "    </tr>\n",
              "  </thead>\n",
              "  <tbody>\n",
              "    <tr>\n",
              "      <th>count</th>\n",
              "      <td>54467.000000</td>\n",
              "      <td>54467.000000</td>\n",
              "    </tr>\n",
              "    <tr>\n",
              "      <th>mean</th>\n",
              "      <td>0.307325</td>\n",
              "      <td>1.095947</td>\n",
              "    </tr>\n",
              "    <tr>\n",
              "      <th>std</th>\n",
              "      <td>2.850342</td>\n",
              "      <td>26.015356</td>\n",
              "    </tr>\n",
              "    <tr>\n",
              "      <th>min</th>\n",
              "      <td>0.000004</td>\n",
              "      <td>0.000000</td>\n",
              "    </tr>\n",
              "    <tr>\n",
              "      <th>25%</th>\n",
              "      <td>0.043689</td>\n",
              "      <td>0.006204</td>\n",
              "    </tr>\n",
              "    <tr>\n",
              "      <th>50%</th>\n",
              "      <td>0.103625</td>\n",
              "      <td>0.191024</td>\n",
              "    </tr>\n",
              "    <tr>\n",
              "      <th>75%</th>\n",
              "      <td>0.238627</td>\n",
              "      <td>0.530049</td>\n",
              "    </tr>\n",
              "    <tr>\n",
              "      <th>max</th>\n",
              "      <td>553.089383</td>\n",
              "      <td>5517.285884</td>\n",
              "    </tr>\n",
              "  </tbody>\n",
              "</table>\n",
              "</div>\n",
              "      <button class=\"colab-df-convert\" onclick=\"convertToInteractive('df-16eb3f7b-0c74-4fa2-bc24-8457edc122c8')\"\n",
              "              title=\"Convert this dataframe to an interactive table.\"\n",
              "              style=\"display:none;\">\n",
              "        \n",
              "  <svg xmlns=\"http://www.w3.org/2000/svg\" height=\"24px\"viewBox=\"0 0 24 24\"\n",
              "       width=\"24px\">\n",
              "    <path d=\"M0 0h24v24H0V0z\" fill=\"none\"/>\n",
              "    <path d=\"M18.56 5.44l.94 2.06.94-2.06 2.06-.94-2.06-.94-.94-2.06-.94 2.06-2.06.94zm-11 1L8.5 8.5l.94-2.06 2.06-.94-2.06-.94L8.5 2.5l-.94 2.06-2.06.94zm10 10l.94 2.06.94-2.06 2.06-.94-2.06-.94-.94-2.06-.94 2.06-2.06.94z\"/><path d=\"M17.41 7.96l-1.37-1.37c-.4-.4-.92-.59-1.43-.59-.52 0-1.04.2-1.43.59L10.3 9.45l-7.72 7.72c-.78.78-.78 2.05 0 2.83L4 21.41c.39.39.9.59 1.41.59.51 0 1.02-.2 1.41-.59l7.78-7.78 2.81-2.81c.8-.78.8-2.07 0-2.86zM5.41 20L4 18.59l7.72-7.72 1.47 1.35L5.41 20z\"/>\n",
              "  </svg>\n",
              "      </button>\n",
              "      \n",
              "  <style>\n",
              "    .colab-df-container {\n",
              "      display:flex;\n",
              "      flex-wrap:wrap;\n",
              "      gap: 12px;\n",
              "    }\n",
              "\n",
              "    .colab-df-convert {\n",
              "      background-color: #E8F0FE;\n",
              "      border: none;\n",
              "      border-radius: 50%;\n",
              "      cursor: pointer;\n",
              "      display: none;\n",
              "      fill: #1967D2;\n",
              "      height: 32px;\n",
              "      padding: 0 0 0 0;\n",
              "      width: 32px;\n",
              "    }\n",
              "\n",
              "    .colab-df-convert:hover {\n",
              "      background-color: #E2EBFA;\n",
              "      box-shadow: 0px 1px 2px rgba(60, 64, 67, 0.3), 0px 1px 3px 1px rgba(60, 64, 67, 0.15);\n",
              "      fill: #174EA6;\n",
              "    }\n",
              "\n",
              "    [theme=dark] .colab-df-convert {\n",
              "      background-color: #3B4455;\n",
              "      fill: #D2E3FC;\n",
              "    }\n",
              "\n",
              "    [theme=dark] .colab-df-convert:hover {\n",
              "      background-color: #434B5C;\n",
              "      box-shadow: 0px 1px 3px 1px rgba(0, 0, 0, 0.15);\n",
              "      filter: drop-shadow(0px 1px 2px rgba(0, 0, 0, 0.3));\n",
              "      fill: #FFFFFF;\n",
              "    }\n",
              "  </style>\n",
              "\n",
              "      <script>\n",
              "        const buttonEl =\n",
              "          document.querySelector('#df-16eb3f7b-0c74-4fa2-bc24-8457edc122c8 button.colab-df-convert');\n",
              "        buttonEl.style.display =\n",
              "          google.colab.kernel.accessAllowed ? 'block' : 'none';\n",
              "\n",
              "        async function convertToInteractive(key) {\n",
              "          const element = document.querySelector('#df-16eb3f7b-0c74-4fa2-bc24-8457edc122c8');\n",
              "          const dataTable =\n",
              "            await google.colab.kernel.invokeFunction('convertToInteractive',\n",
              "                                                     [key], {});\n",
              "          if (!dataTable) return;\n",
              "\n",
              "          const docLinkHtml = 'Like what you see? Visit the ' +\n",
              "            '<a target=\"_blank\" href=https://colab.research.google.com/notebooks/data_table.ipynb>data table notebook</a>'\n",
              "            + ' to learn more about interactive tables.';\n",
              "          element.innerHTML = '';\n",
              "          dataTable['output_type'] = 'display_data';\n",
              "          await google.colab.output.renderOutput(dataTable, element);\n",
              "          const docLink = document.createElement('div');\n",
              "          docLink.innerHTML = docLinkHtml;\n",
              "          element.appendChild(docLink);\n",
              "        }\n",
              "      </script>\n",
              "    </div>\n",
              "  </div>\n",
              "  "
            ]
          },
          "metadata": {},
          "execution_count": 22
        }
      ]
    },
    {
      "cell_type": "markdown",
      "source": [
        "#Unidimensional analysis of the variables"
      ],
      "metadata": {
        "id": "4nmxgs9IbUeQ"
      }
    },
    {
      "cell_type": "code",
      "source": [
        "ETH_Data[ETH_Data['ETH_mined_last_month']< ETH_Data['ETH_mined_last_month'].quantile(0.997)]['ETH_mined_last_month'].hist(bins=100)"
      ],
      "metadata": {
        "colab": {
          "base_uri": "https://localhost:8080/",
          "height": 282
        },
        "id": "uAOFh4MJbTP2",
        "outputId": "9dcfb3b0-facd-487b-f281-6e717411add6"
      },
      "execution_count": null,
      "outputs": [
        {
          "output_type": "execute_result",
          "data": {
            "text/plain": [
              "<matplotlib.axes._subplots.AxesSubplot at 0x7feefb01d410>"
            ]
          },
          "metadata": {},
          "execution_count": 38
        },
        {
          "output_type": "display_data",
          "data": {
            "text/plain": [
              "<Figure size 432x288 with 1 Axes>"
            ],
            "image/png": "[encoded data removed]"
          },
          "metadata": {
            "needs_background": "light"
          }
        }
      ]
    },
    {
      "cell_type": "code",
      "source": [
        "ETH_Data[ETH_Data['ETH_current_balance']< ETH_Data['ETH_current_balance'].quantile(0.997)]['ETH_current_balance'].hist(bins=100)"
      ],
      "metadata": {
        "colab": {
          "base_uri": "https://localhost:8080/",
          "height": 282
        },
        "id": "FDCw8mr0diAU",
        "outputId": "98112dd9-f3cb-4c5e-b5ec-4857c83d4395"
      },
      "execution_count": null,
      "outputs": [
        {
          "output_type": "execute_result",
          "data": {
            "text/plain": [
              "<matplotlib.axes._subplots.AxesSubplot at 0x7feefafef550>"
            ]
          },
          "metadata": {},
          "execution_count": 39
        },
        {
          "output_type": "display_data",
          "data": {
            "text/plain": [
              "<Figure size 432x288 with 1 Axes>"
            ],
            "image/png": "[encoded data removed]"
          },
          "metadata": {
            "needs_background": "light"
          }
        }
      ]
    },
    {
      "cell_type": "code",
      "source": [
        "x = ETH_Data[ETH_Data['ETH_mined_last_month']< ETH_Data['ETH_mined_last_month'].quantile(0.997)]['ETH_mined_last_month']\n",
        "y = ETH_Data[ETH_Data['ETH_current_balance']< ETH_Data['ETH_current_balance'].quantile(0.997)]['ETH_current_balance']"
      ],
      "metadata": {
        "id": "QzgNI-wbRf20"
      },
      "execution_count": null,
      "outputs": []
    },
    {
      "cell_type": "markdown",
      "source": [
        "#Multidimensional analysis of the variables"
      ],
      "metadata": {
        "id": "tG3rskhhcWuU"
      }
    },
    {
      "cell_type": "code",
      "source": [
        "ETH_Data.loc[ETH_Data['ETH_current_balance'] > 30][['ETH_mined_last_month', 'ETH_current_balance']].sort_values(by='ETH_current_balance',ascending=False)"
      ],
      "metadata": {
        "colab": {
          "base_uri": "https://localhost:8080/",
          "height": 424
        },
        "id": "gwz8VGqIcV5E",
        "outputId": "c470a0d5-8ae0-4d7a-c98e-15e492011042"
      },
      "execution_count": null,
      "outputs": [
        {
          "output_type": "execute_result",
          "data": {
            "text/plain": [
              "       ETH_mined_last_month  ETH_current_balance\n",
              "23299              2.427052          5517.285884\n",
              "197                0.547835          1045.030427\n",
              "21122             17.151563           969.340061\n",
              "4455               9.813589           965.245566\n",
              "137                0.462361           956.095125\n",
              "...                     ...                  ...\n",
              "9087               0.193000            30.732484\n",
              "8064               0.496807            30.125992\n",
              "23245              0.298988            30.097155\n",
              "44474              4.656910            30.094637\n",
              "12434              4.812577            30.045608\n",
              "\n",
              "[208 rows x 2 columns]"
            ],
            "text/html": [
              "\n",
              "  <div id=\"df-e88bf863-c859-469b-84d1-d34e36142923\">\n",
              "    <div class=\"colab-df-container\">\n",
              "      <div>\n",
              "<style scoped>\n",
              "    .dataframe tbody tr th:only-of-type {\n",
              "        vertical-align: middle;\n",
              "    }\n",
              "\n",
              "    .dataframe tbody tr th {\n",
              "        vertical-align: top;\n",
              "    }\n",
              "\n",
              "    .dataframe thead th {\n",
              "        text-align: right;\n",
              "    }\n",
              "</style>\n",
              "<table border=\"1\" class=\"dataframe\">\n",
              "  <thead>\n",
              "    <tr style=\"text-align: right;\">\n",
              "      <th></th>\n",
              "      <th>ETH_mined_last_month</th>\n",
              "      <th>ETH_current_balance</th>\n",
              "    </tr>\n",
              "  </thead>\n",
              "  <tbody>\n",
              "    <tr>\n",
              "      <th>23299</th>\n",
              "      <td>2.427052</td>\n",
              "      <td>5517.285884</td>\n",
              "    </tr>\n",
              "    <tr>\n",
              "      <th>197</th>\n",
              "      <td>0.547835</td>\n",
              "      <td>1045.030427</td>\n",
              "    </tr>\n",
              "    <tr>\n",
              "      <th>21122</th>\n",
              "      <td>17.151563</td>\n",
              "      <td>969.340061</td>\n",
              "    </tr>\n",
              "    <tr>\n",
              "      <th>4455</th>\n",
              "      <td>9.813589</td>\n",
              "      <td>965.245566</td>\n",
              "    </tr>\n",
              "    <tr>\n",
              "      <th>137</th>\n",
              "      <td>0.462361</td>\n",
              "      <td>956.095125</td>\n",
              "    </tr>\n",
              "    <tr>\n",
              "      <th>...</th>\n",
              "      <td>...</td>\n",
              "      <td>...</td>\n",
              "    </tr>\n",
              "    <tr>\n",
              "      <th>9087</th>\n",
              "      <td>0.193000</td>\n",
              "      <td>30.732484</td>\n",
              "    </tr>\n",
              "    <tr>\n",
              "      <th>8064</th>\n",
              "      <td>0.496807</td>\n",
              "      <td>30.125992</td>\n",
              "    </tr>\n",
              "    <tr>\n",
              "      <th>23245</th>\n",
              "      <td>0.298988</td>\n",
              "      <td>30.097155</td>\n",
              "    </tr>\n",
              "    <tr>\n",
              "      <th>44474</th>\n",
              "      <td>4.656910</td>\n",
              "      <td>30.094637</td>\n",
              "    </tr>\n",
              "    <tr>\n",
              "      <th>12434</th>\n",
              "      <td>4.812577</td>\n",
              "      <td>30.045608</td>\n",
              "    </tr>\n",
              "  </tbody>\n",
              "</table>\n",
              "<p>208 rows × 2 columns</p>\n",
              "</div>\n",
              "      <button class=\"colab-df-convert\" onclick=\"convertToInteractive('df-e88bf863-c859-469b-84d1-d34e36142923')\"\n",
              "              title=\"Convert this dataframe to an interactive table.\"\n",
              "              style=\"display:none;\">\n",
              "        \n",
              "  <svg xmlns=\"http://www.w3.org/2000/svg\" height=\"24px\"viewBox=\"0 0 24 24\"\n",
              "       width=\"24px\">\n",
              "    <path d=\"M0 0h24v24H0V0z\" fill=\"none\"/>\n",
              "    <path d=\"M18.56 5.44l.94 2.06.94-2.06 2.06-.94-2.06-.94-.94-2.06-.94 2.06-2.06.94zm-11 1L8.5 8.5l.94-2.06 2.06-.94-2.06-.94L8.5 2.5l-.94 2.06-2.06.94zm10 10l.94 2.06.94-2.06 2.06-.94-2.06-.94-.94-2.06-.94 2.06-2.06.94z\"/><path d=\"M17.41 7.96l-1.37-1.37c-.4-.4-.92-.59-1.43-.59-.52 0-1.04.2-1.43.59L10.3 9.45l-7.72 7.72c-.78.78-.78 2.05 0 2.83L4 21.41c.39.39.9.59 1.41.59.51 0 1.02-.2 1.41-.59l7.78-7.78 2.81-2.81c.8-.78.8-2.07 0-2.86zM5.41 20L4 18.59l7.72-7.72 1.47 1.35L5.41 20z\"/>\n",
              "  </svg>\n",
              "      </button>\n",
              "      \n",
              "  <style>\n",
              "    .colab-df-container {\n",
              "      display:flex;\n",
              "      flex-wrap:wrap;\n",
              "      gap: 12px;\n",
              "    }\n",
              "\n",
              "    .colab-df-convert {\n",
              "      background-color: #E8F0FE;\n",
              "      border: none;\n",
              "      border-radius: 50%;\n",
              "      cursor: pointer;\n",
              "      display: none;\n",
              "      fill: #1967D2;\n",
              "      height: 32px;\n",
              "      padding: 0 0 0 0;\n",
              "      width: 32px;\n",
              "    }\n",
              "\n",
              "    .colab-df-convert:hover {\n",
              "      background-color: #E2EBFA;\n",
              "      box-shadow: 0px 1px 2px rgba(60, 64, 67, 0.3), 0px 1px 3px 1px rgba(60, 64, 67, 0.15);\n",
              "      fill: #174EA6;\n",
              "    }\n",
              "\n",
              "    [theme=dark] .colab-df-convert {\n",
              "      background-color: #3B4455;\n",
              "      fill: #D2E3FC;\n",
              "    }\n",
              "\n",
              "    [theme=dark] .colab-df-convert:hover {\n",
              "      background-color: #434B5C;\n",
              "      box-shadow: 0px 1px 3px 1px rgba(0, 0, 0, 0.15);\n",
              "      filter: drop-shadow(0px 1px 2px rgba(0, 0, 0, 0.3));\n",
              "      fill: #FFFFFF;\n",
              "    }\n",
              "  </style>\n",
              "\n",
              "      <script>\n",
              "        const buttonEl =\n",
              "          document.querySelector('#df-e88bf863-c859-469b-84d1-d34e36142923 button.colab-df-convert');\n",
              "        buttonEl.style.display =\n",
              "          google.colab.kernel.accessAllowed ? 'block' : 'none';\n",
              "\n",
              "        async function convertToInteractive(key) {\n",
              "          const element = document.querySelector('#df-e88bf863-c859-469b-84d1-d34e36142923');\n",
              "          const dataTable =\n",
              "            await google.colab.kernel.invokeFunction('convertToInteractive',\n",
              "                                                     [key], {});\n",
              "          if (!dataTable) return;\n",
              "\n",
              "          const docLinkHtml = 'Like what you see? Visit the ' +\n",
              "            '<a target=\"_blank\" href=https://colab.research.google.com/notebooks/data_table.ipynb>data table notebook</a>'\n",
              "            + ' to learn more about interactive tables.';\n",
              "          element.innerHTML = '';\n",
              "          dataTable['output_type'] = 'display_data';\n",
              "          await google.colab.output.renderOutput(dataTable, element);\n",
              "          const docLink = document.createElement('div');\n",
              "          docLink.innerHTML = docLinkHtml;\n",
              "          element.appendChild(docLink);\n",
              "        }\n",
              "      </script>\n",
              "    </div>\n",
              "  </div>\n",
              "  "
            ]
          },
          "metadata": {},
          "execution_count": 35
        }
      ]
    },
    {
      "cell_type": "code",
      "source": [
        "plt.scatter(x, y)\n",
        "plt.xlabel('ETH MINED LAST MONTH')\n",
        "plt.ylabel('ETH BALANCE')\n",
        "plt.plot()"
      ],
      "metadata": {
        "colab": {
          "base_uri": "https://localhost:8080/",
          "height": 296
        },
        "id": "t1KjlemkuvE3",
        "outputId": "58757a7f-7883-4fc8-9093-3253a055302c"
      },
      "execution_count": null,
      "outputs": [
        {
          "output_type": "execute_result",
          "data": {
            "text/plain": [
              "[]"
            ]
          },
          "metadata": {},
          "execution_count": 15
        },
        {
          "output_type": "display_data",
          "data": {
            "text/plain": [
              "<Figure size 432x288 with 1 Axes>"
            ],
            "image/png": "[encoded data removed]"
          },
          "metadata": {
            "needs_background": "light"
          }
        }
      ]
    },
    {
      "cell_type": "code",
      "source": [
        "ETH_Data.loc[ETH_Data['ETH_mined_last_month'] < 0.1 ][['ETH_mined_last_month','ETH_current_balance']]"
      ],
      "metadata": {
        "colab": {
          "base_uri": "https://localhost:8080/",
          "height": 424
        },
        "id": "eDjb4XGpTJut",
        "outputId": "6b43e692-90f0-446a-e06c-75e9b63b3969"
      },
      "execution_count": null,
      "outputs": [
        {
          "output_type": "execute_result",
          "data": {
            "text/plain": [
              "       ETH_mined_last_month  ETH_current_balance\n",
              "1                  0.024253             0.043394\n",
              "2                  0.022877             0.196251\n",
              "3                  0.072669             0.385343\n",
              "5                  0.065930             0.197987\n",
              "7                  0.054811             0.204243\n",
              "...                     ...                  ...\n",
              "54458              0.047404             0.000000\n",
              "54460              0.084065             2.854289\n",
              "54463              0.092846             0.059282\n",
              "54464              0.039395             0.000000\n",
              "54465              0.079058             0.000003\n",
              "\n",
              "[26459 rows x 2 columns]"
            ],
            "text/html": [
              "\n",
              "  <div id=\"df-f79591df-dd50-46a8-ad2e-a58697e4f49f\">\n",
              "    <div class=\"colab-df-container\">\n",
              "      <div>\n",
              "<style scoped>\n",
              "    .dataframe tbody tr th:only-of-type {\n",
              "        vertical-align: middle;\n",
              "    }\n",
              "\n",
              "    .dataframe tbody tr th {\n",
              "        vertical-align: top;\n",
              "    }\n",
              "\n",
              "    .dataframe thead th {\n",
              "        text-align: right;\n",
              "    }\n",
              "</style>\n",
              "<table border=\"1\" class=\"dataframe\">\n",
              "  <thead>\n",
              "    <tr style=\"text-align: right;\">\n",
              "      <th></th>\n",
              "      <th>ETH_mined_last_month</th>\n",
              "      <th>ETH_current_balance</th>\n",
              "    </tr>\n",
              "  </thead>\n",
              "  <tbody>\n",
              "    <tr>\n",
              "      <th>1</th>\n",
              "      <td>0.024253</td>\n",
              "      <td>0.043394</td>\n",
              "    </tr>\n",
              "    <tr>\n",
              "      <th>2</th>\n",
              "      <td>0.022877</td>\n",
              "      <td>0.196251</td>\n",
              "    </tr>\n",
              "    <tr>\n",
              "      <th>3</th>\n",
              "      <td>0.072669</td>\n",
              "      <td>0.385343</td>\n",
              "    </tr>\n",
              "    <tr>\n",
              "      <th>5</th>\n",
              "      <td>0.065930</td>\n",
              "      <td>0.197987</td>\n",
              "    </tr>\n",
              "    <tr>\n",
              "      <th>7</th>\n",
              "      <td>0.054811</td>\n",
              "      <td>0.204243</td>\n",
              "    </tr>\n",
              "    <tr>\n",
              "      <th>...</th>\n",
              "      <td>...</td>\n",
              "      <td>...</td>\n",
              "    </tr>\n",
              "    <tr>\n",
              "      <th>54458</th>\n",
              "      <td>0.047404</td>\n",
              "      <td>0.000000</td>\n",
              "    </tr>\n",
              "    <tr>\n",
              "      <th>54460</th>\n",
              "      <td>0.084065</td>\n",
              "      <td>2.854289</td>\n",
              "    </tr>\n",
              "    <tr>\n",
              "      <th>54463</th>\n",
              "      <td>0.092846</td>\n",
              "      <td>0.059282</td>\n",
              "    </tr>\n",
              "    <tr>\n",
              "      <th>54464</th>\n",
              "      <td>0.039395</td>\n",
              "      <td>0.000000</td>\n",
              "    </tr>\n",
              "    <tr>\n",
              "      <th>54465</th>\n",
              "      <td>0.079058</td>\n",
              "      <td>0.000003</td>\n",
              "    </tr>\n",
              "  </tbody>\n",
              "</table>\n",
              "<p>26459 rows × 2 columns</p>\n",
              "</div>\n",
              "      <button class=\"colab-df-convert\" onclick=\"convertToInteractive('df-f79591df-dd50-46a8-ad2e-a58697e4f49f')\"\n",
              "              title=\"Convert this dataframe to an interactive table.\"\n",
              "              style=\"display:none;\">\n",
              "        \n",
              "  <svg xmlns=\"http://www.w3.org/2000/svg\" height=\"24px\"viewBox=\"0 0 24 24\"\n",
              "       width=\"24px\">\n",
              "    <path d=\"M0 0h24v24H0V0z\" fill=\"none\"/>\n",
              "    <path d=\"M18.56 5.44l.94 2.06.94-2.06 2.06-.94-2.06-.94-.94-2.06-.94 2.06-2.06.94zm-11 1L8.5 8.5l.94-2.06 2.06-.94-2.06-.94L8.5 2.5l-.94 2.06-2.06.94zm10 10l.94 2.06.94-2.06 2.06-.94-2.06-.94-.94-2.06-.94 2.06-2.06.94z\"/><path d=\"M17.41 7.96l-1.37-1.37c-.4-.4-.92-.59-1.43-.59-.52 0-1.04.2-1.43.59L10.3 9.45l-7.72 7.72c-.78.78-.78 2.05 0 2.83L4 21.41c.39.39.9.59 1.41.59.51 0 1.02-.2 1.41-.59l7.78-7.78 2.81-2.81c.8-.78.8-2.07 0-2.86zM5.41 20L4 18.59l7.72-7.72 1.47 1.35L5.41 20z\"/>\n",
              "  </svg>\n",
              "      </button>\n",
              "      \n",
              "  <style>\n",
              "    .colab-df-container {\n",
              "      display:flex;\n",
              "      flex-wrap:wrap;\n",
              "      gap: 12px;\n",
              "    }\n",
              "\n",
              "    .colab-df-convert {\n",
              "      background-color: #E8F0FE;\n",
              "      border: none;\n",
              "      border-radius: 50%;\n",
              "      cursor: pointer;\n",
              "      display: none;\n",
              "      fill: #1967D2;\n",
              "      height: 32px;\n",
              "      padding: 0 0 0 0;\n",
              "      width: 32px;\n",
              "    }\n",
              "\n",
              "    .colab-df-convert:hover {\n",
              "      background-color: #E2EBFA;\n",
              "      box-shadow: 0px 1px 2px rgba(60, 64, 67, 0.3), 0px 1px 3px 1px rgba(60, 64, 67, 0.15);\n",
              "      fill: #174EA6;\n",
              "    }\n",
              "\n",
              "    [theme=dark] .colab-df-convert {\n",
              "      background-color: #3B4455;\n",
              "      fill: #D2E3FC;\n",
              "    }\n",
              "\n",
              "    [theme=dark] .colab-df-convert:hover {\n",
              "      background-color: #434B5C;\n",
              "      box-shadow: 0px 1px 3px 1px rgba(0, 0, 0, 0.15);\n",
              "      filter: drop-shadow(0px 1px 2px rgba(0, 0, 0, 0.3));\n",
              "      fill: #FFFFFF;\n",
              "    }\n",
              "  </style>\n",
              "\n",
              "      <script>\n",
              "        const buttonEl =\n",
              "          document.querySelector('#df-f79591df-dd50-46a8-ad2e-a58697e4f49f button.colab-df-convert');\n",
              "        buttonEl.style.display =\n",
              "          google.colab.kernel.accessAllowed ? 'block' : 'none';\n",
              "\n",
              "        async function convertToInteractive(key) {\n",
              "          const element = document.querySelector('#df-f79591df-dd50-46a8-ad2e-a58697e4f49f');\n",
              "          const dataTable =\n",
              "            await google.colab.kernel.invokeFunction('convertToInteractive',\n",
              "                                                     [key], {});\n",
              "          if (!dataTable) return;\n",
              "\n",
              "          const docLinkHtml = 'Like what you see? Visit the ' +\n",
              "            '<a target=\"_blank\" href=https://colab.research.google.com/notebooks/data_table.ipynb>data table notebook</a>'\n",
              "            + ' to learn more about interactive tables.';\n",
              "          element.innerHTML = '';\n",
              "          dataTable['output_type'] = 'display_data';\n",
              "          await google.colab.output.renderOutput(dataTable, element);\n",
              "          const docLink = document.createElement('div');\n",
              "          docLink.innerHTML = docLinkHtml;\n",
              "          element.appendChild(docLink);\n",
              "        }\n",
              "      </script>\n",
              "    </div>\n",
              "  </div>\n",
              "  "
            ]
          },
          "metadata": {},
          "execution_count": 48
        }
      ]
    },
    {
      "cell_type": "markdown",
      "source": [
        "`Before continuing working on the data i need to normalize it`"
      ],
      "metadata": {
        "id": "LxMrCJet6y-b"
      }
    },
    {
      "cell_type": "code",
      "source": [
        "to_scale = pd.DataFrame(data=[x,y]).T\n",
        "scaler = StandardScaler()\n",
        "scaled = scaler.fit_transform(to_scale[['ETH_mined_last_month','ETH_current_balance']].values)\n",
        "covariance_matrix = np.cov(scaled.T)\n",
        "\n",
        "plt.scatter(x=scaled[:,0],y=scaled[:,1],linewidths=0,marker='.',color='blue')\n",
        "plt.plot()"
      ],
      "metadata": {
        "colab": {
          "base_uri": "https://localhost:8080/",
          "height": 282
        },
        "id": "yYEyt7Wi9HmT",
        "outputId": "18f32fca-ebc1-40f8-8311-ccb5038422b0"
      },
      "execution_count": null,
      "outputs": [
        {
          "output_type": "execute_result",
          "data": {
            "text/plain": [
              "[]"
            ]
          },
          "metadata": {},
          "execution_count": 46
        },
        {
          "output_type": "display_data",
          "data": {
            "text/plain": [
              "<Figure size 432x288 with 1 Axes>"
            ],
            "image/png": "[encoded data removed]"
          },
          "metadata": {
            "needs_background": "light"
          }
        }
      ]
    }
  ]
}