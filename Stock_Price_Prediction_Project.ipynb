{
  "nbformat": 4,
  "nbformat_minor": 0,
  "metadata": {
    "colab": {
      "provenance": [],
      "mount_file_id": "1X1PBs3rWGU4kdaSbA8hU2v0Oy4x-NCxk",
      "authorship_tag": "ABX9TyOVAJPh2b4Rrb9i2OSUgu5/",
      "include_colab_link": true
    },
    "kernelspec": {
      "name": "python3",
      "display_name": "Python 3"
    },
    "language_info": {
      "name": "python"
    }
  },
  "cells": [
    {
      "cell_type": "markdown",
      "metadata": {
        "id": "view-in-github",
        "colab_type": "text"
      },
      "source": [
        "<a href=\"https://colab.research.google.com/github/motm-1/DS-proyects/blob/main/Stock_Price_Prediction_Project.ipynb\" target=\"_parent\"><img src=\"https://colab.research.google.com/assets/colab-badge.svg\" alt=\"Open In Colab\"/></a>"
      ]
    },
    {
      "cell_type": "code",
      "execution_count": null,
      "metadata": {
        "id": "QgFQ4r5mM0sm"
      },
      "outputs": [],
      "source": [
        "import pandas as pd\n",
        "import numpy as np\n",
        "import seaborn as sns\n",
        "import matplotlib.pyplot as plt\n",
        "from sklearn.model_selection import train_test_split\n",
        "from sklearn.tree import DecisionTreeRegressor\n",
        "from sklearn.linear_model import LinearRegression"
      ]
    },
    {
      "cell_type": "markdown",
      "source": [
        "# Elegimos el dataset, en este caso elijo el de MicroStrategy."
      ],
      "metadata": {
        "id": "GCF35pl-H6rH"
      }
    },
    {
      "cell_type": "code",
      "source": [
        "msrt_data = pd.read_csv('/content/drive/MyDrive/Data_MSTR.csv')"
      ],
      "metadata": {
        "id": "Yaep7BHbYq-u"
      },
      "execution_count": null,
      "outputs": []
    },
    {
      "cell_type": "markdown",
      "source": [
        "# Analizamos los datos para entenderlos y saber como vamos a trabajarlos antes de crear los modelos"
      ],
      "metadata": {
        "id": "8VQukWibIDNn"
      }
    },
    {
      "cell_type": "code",
      "source": [
        "msrt_data.head()"
      ],
      "metadata": {
        "colab": {
          "base_uri": "https://localhost:8080/",
          "height": 206
        },
        "id": "lb96P0XwZsfZ",
        "outputId": "0942b93b-9f2d-4aa3-c091-41f3915317c3"
      },
      "execution_count": null,
      "outputs": [
        {
          "output_type": "execute_result",
          "data": {
            "text/plain": [
              "         Date Close/Last  Volume     Open     High       Low\n",
              "0  10/21/2022    $232.62  362554  $218.55  $234.43   $216.49\n",
              "1  10/20/2022    $221.01  267550  $228.23  $234.89   $219.22\n",
              "2  10/19/2022    $226.08  271305  $228.08  $234.49  $223.959\n",
              "3  10/18/2022       $235  610315   $230.2  $235.31   $219.64\n",
              "4  10/17/2022    $221.13  334410     $220  $226.27   $218.81"
            ],
            "text/html": [
              "\n",
              "  <div id=\"df-e45461e9-7f87-4ee7-98dc-4940f1f22f17\">\n",
              "    <div class=\"colab-df-container\">\n",
              "      <div>\n",
              "<style scoped>\n",
              "    .dataframe tbody tr th:only-of-type {\n",
              "        vertical-align: middle;\n",
              "    }\n",
              "\n",
              "    .dataframe tbody tr th {\n",
              "        vertical-align: top;\n",
              "    }\n",
              "\n",
              "    .dataframe thead th {\n",
              "        text-align: right;\n",
              "    }\n",
              "</style>\n",
              "<table border=\"1\" class=\"dataframe\">\n",
              "  <thead>\n",
              "    <tr style=\"text-align: right;\">\n",
              "      <th></th>\n",
              "      <th>Date</th>\n",
              "      <th>Close/Last</th>\n",
              "      <th>Volume</th>\n",
              "      <th>Open</th>\n",
              "      <th>High</th>\n",
              "      <th>Low</th>\n",
              "    </tr>\n",
              "  </thead>\n",
              "  <tbody>\n",
              "    <tr>\n",
              "      <th>0</th>\n",
              "      <td>10/21/2022</td>\n",
              "      <td>$232.62</td>\n",
              "      <td>362554</td>\n",
              "      <td>$218.55</td>\n",
              "      <td>$234.43</td>\n",
              "      <td>$216.49</td>\n",
              "    </tr>\n",
              "    <tr>\n",
              "      <th>1</th>\n",
              "      <td>10/20/2022</td>\n",
              "      <td>$221.01</td>\n",
              "      <td>267550</td>\n",
              "      <td>$228.23</td>\n",
              "      <td>$234.89</td>\n",
              "      <td>$219.22</td>\n",
              "    </tr>\n",
              "    <tr>\n",
              "      <th>2</th>\n",
              "      <td>10/19/2022</td>\n",
              "      <td>$226.08</td>\n",
              "      <td>271305</td>\n",
              "      <td>$228.08</td>\n",
              "      <td>$234.49</td>\n",
              "      <td>$223.959</td>\n",
              "    </tr>\n",
              "    <tr>\n",
              "      <th>3</th>\n",
              "      <td>10/18/2022</td>\n",
              "      <td>$235</td>\n",
              "      <td>610315</td>\n",
              "      <td>$230.2</td>\n",
              "      <td>$235.31</td>\n",
              "      <td>$219.64</td>\n",
              "    </tr>\n",
              "    <tr>\n",
              "      <th>4</th>\n",
              "      <td>10/17/2022</td>\n",
              "      <td>$221.13</td>\n",
              "      <td>334410</td>\n",
              "      <td>$220</td>\n",
              "      <td>$226.27</td>\n",
              "      <td>$218.81</td>\n",
              "    </tr>\n",
              "  </tbody>\n",
              "</table>\n",
              "</div>\n",
              "      <button class=\"colab-df-convert\" onclick=\"convertToInteractive('df-e45461e9-7f87-4ee7-98dc-4940f1f22f17')\"\n",
              "              title=\"Convert this dataframe to an interactive table.\"\n",
              "              style=\"display:none;\">\n",
              "        \n",
              "  <svg xmlns=\"http://www.w3.org/2000/svg\" height=\"24px\"viewBox=\"0 0 24 24\"\n",
              "       width=\"24px\">\n",
              "    <path d=\"M0 0h24v24H0V0z\" fill=\"none\"/>\n",
              "    <path d=\"M18.56 5.44l.94 2.06.94-2.06 2.06-.94-2.06-.94-.94-2.06-.94 2.06-2.06.94zm-11 1L8.5 8.5l.94-2.06 2.06-.94-2.06-.94L8.5 2.5l-.94 2.06-2.06.94zm10 10l.94 2.06.94-2.06 2.06-.94-2.06-.94-.94-2.06-.94 2.06-2.06.94z\"/><path d=\"M17.41 7.96l-1.37-1.37c-.4-.4-.92-.59-1.43-.59-.52 0-1.04.2-1.43.59L10.3 9.45l-7.72 7.72c-.78.78-.78 2.05 0 2.83L4 21.41c.39.39.9.59 1.41.59.51 0 1.02-.2 1.41-.59l7.78-7.78 2.81-2.81c.8-.78.8-2.07 0-2.86zM5.41 20L4 18.59l7.72-7.72 1.47 1.35L5.41 20z\"/>\n",
              "  </svg>\n",
              "      </button>\n",
              "      \n",
              "  <style>\n",
              "    .colab-df-container {\n",
              "      display:flex;\n",
              "      flex-wrap:wrap;\n",
              "      gap: 12px;\n",
              "    }\n",
              "\n",
              "    .colab-df-convert {\n",
              "      background-color: #E8F0FE;\n",
              "      border: none;\n",
              "      border-radius: 50%;\n",
              "      cursor: pointer;\n",
              "      display: none;\n",
              "      fill: #1967D2;\n",
              "      height: 32px;\n",
              "      padding: 0 0 0 0;\n",
              "      width: 32px;\n",
              "    }\n",
              "\n",
              "    .colab-df-convert:hover {\n",
              "      background-color: #E2EBFA;\n",
              "      box-shadow: 0px 1px 2px rgba(60, 64, 67, 0.3), 0px 1px 3px 1px rgba(60, 64, 67, 0.15);\n",
              "      fill: #174EA6;\n",
              "    }\n",
              "\n",
              "    [theme=dark] .colab-df-convert {\n",
              "      background-color: #3B4455;\n",
              "      fill: #D2E3FC;\n",
              "    }\n",
              "\n",
              "    [theme=dark] .colab-df-convert:hover {\n",
              "      background-color: #434B5C;\n",
              "      box-shadow: 0px 1px 3px 1px rgba(0, 0, 0, 0.15);\n",
              "      filter: drop-shadow(0px 1px 2px rgba(0, 0, 0, 0.3));\n",
              "      fill: #FFFFFF;\n",
              "    }\n",
              "  </style>\n",
              "\n",
              "      <script>\n",
              "        const buttonEl =\n",
              "          document.querySelector('#df-e45461e9-7f87-4ee7-98dc-4940f1f22f17 button.colab-df-convert');\n",
              "        buttonEl.style.display =\n",
              "          google.colab.kernel.accessAllowed ? 'block' : 'none';\n",
              "\n",
              "        async function convertToInteractive(key) {\n",
              "          const element = document.querySelector('#df-e45461e9-7f87-4ee7-98dc-4940f1f22f17');\n",
              "          const dataTable =\n",
              "            await google.colab.kernel.invokeFunction('convertToInteractive',\n",
              "                                                     [key], {});\n",
              "          if (!dataTable) return;\n",
              "\n",
              "          const docLinkHtml = 'Like what you see? Visit the ' +\n",
              "            '<a target=\"_blank\" href=https://colab.research.google.com/notebooks/data_table.ipynb>data table notebook</a>'\n",
              "            + ' to learn more about interactive tables.';\n",
              "          element.innerHTML = '';\n",
              "          dataTable['output_type'] = 'display_data';\n",
              "          await google.colab.output.renderOutput(dataTable, element);\n",
              "          const docLink = document.createElement('div');\n",
              "          docLink.innerHTML = docLinkHtml;\n",
              "          element.appendChild(docLink);\n",
              "        }\n",
              "      </script>\n",
              "    </div>\n",
              "  </div>\n",
              "  "
            ]
          },
          "metadata": {},
          "execution_count": 4
        }
      ]
    },
    {
      "cell_type": "code",
      "source": [
        "msrt_data.dtypes"
      ],
      "metadata": {
        "colab": {
          "base_uri": "https://localhost:8080/"
        },
        "id": "flsQceJvfZ5A",
        "outputId": "326e0b80-e973-417b-b8d7-f7c4435dfa4d"
      },
      "execution_count": null,
      "outputs": [
        {
          "output_type": "execute_result",
          "data": {
            "text/plain": [
              "Date          object\n",
              "Close/Last    object\n",
              "Volume         int64\n",
              "Open          object\n",
              "High          object\n",
              "Low           object\n",
              "dtype: object"
            ]
          },
          "metadata": {},
          "execution_count": 5
        }
      ]
    },
    {
      "cell_type": "code",
      "source": [
        "msrt_columns = msrt_data.columns\n",
        "msrt_columns = msrt_columns.delete((0, 2))"
      ],
      "metadata": {
        "id": "5R3jCfhRkgK_"
      },
      "execution_count": null,
      "outputs": []
    },
    {
      "cell_type": "code",
      "source": [
        "for column in msrt_columns:\n",
        "  msrt_data[column] = msrt_data[column].str.replace('$','')\n",
        "  msrt_data[column] = msrt_data[column].astype(float, errors='raise')"
      ],
      "metadata": {
        "colab": {
          "base_uri": "https://localhost:8080/"
        },
        "id": "spuEyPCFhY65",
        "outputId": "13206dcb-b1e0-40ae-f924-bea7b0fb8a3a"
      },
      "execution_count": null,
      "outputs": [
        {
          "output_type": "stream",
          "name": "stderr",
          "text": [
            "/usr/local/lib/python3.7/dist-packages/ipykernel_launcher.py:2: FutureWarning: The default value of regex will change from True to False in a future version. In addition, single character regular expressions will *not* be treated as literal strings when regex=True.\n",
            "  \n"
          ]
        }
      ]
    },
    {
      "cell_type": "code",
      "source": [
        "msrt_data.describe()"
      ],
      "metadata": {
        "colab": {
          "base_uri": "https://localhost:8080/",
          "height": 300
        },
        "id": "bdr1gwK9kLQp",
        "outputId": "dfdbd8f9-371d-4819-aafa-660522b5928f"
      },
      "execution_count": null,
      "outputs": [
        {
          "output_type": "execute_result",
          "data": {
            "text/plain": [
              "        Close/Last        Volume         Open         High          Low\n",
              "count  1258.000000  1.258000e+03  1258.000000  1258.000000  1258.000000\n",
              "mean    273.945171  3.387684e+05   274.454353   281.924469   266.200759\n",
              "std     214.375076  4.326119e+05   215.852412   223.456375   205.777031\n",
              "min      92.200000  2.340600e+04    91.760000   104.150000    90.000000\n",
              "25%     133.652500  7.130175e+04   133.337500   135.092500   131.700000\n",
              "50%     147.340000  1.233550e+05   147.360000   148.710000   145.430000\n",
              "75%     394.887500  4.973988e+05   398.872500   411.500000   384.827500\n",
              "max    1272.940000  4.692910e+06  1196.010000  1315.000000  1065.407000"
            ],
            "text/html": [
              "\n",
              "  <div id=\"df-02e2551a-14fa-47c9-b470-7680843ec282\">\n",
              "    <div class=\"colab-df-container\">\n",
              "      <div>\n",
              "<style scoped>\n",
              "    .dataframe tbody tr th:only-of-type {\n",
              "        vertical-align: middle;\n",
              "    }\n",
              "\n",
              "    .dataframe tbody tr th {\n",
              "        vertical-align: top;\n",
              "    }\n",
              "\n",
              "    .dataframe thead th {\n",
              "        text-align: right;\n",
              "    }\n",
              "</style>\n",
              "<table border=\"1\" class=\"dataframe\">\n",
              "  <thead>\n",
              "    <tr style=\"text-align: right;\">\n",
              "      <th></th>\n",
              "      <th>Close/Last</th>\n",
              "      <th>Volume</th>\n",
              "      <th>Open</th>\n",
              "      <th>High</th>\n",
              "      <th>Low</th>\n",
              "    </tr>\n",
              "  </thead>\n",
              "  <tbody>\n",
              "    <tr>\n",
              "      <th>count</th>\n",
              "      <td>1258.000000</td>\n",
              "      <td>1.258000e+03</td>\n",
              "      <td>1258.000000</td>\n",
              "      <td>1258.000000</td>\n",
              "      <td>1258.000000</td>\n",
              "    </tr>\n",
              "    <tr>\n",
              "      <th>mean</th>\n",
              "      <td>273.945171</td>\n",
              "      <td>3.387684e+05</td>\n",
              "      <td>274.454353</td>\n",
              "      <td>281.924469</td>\n",
              "      <td>266.200759</td>\n",
              "    </tr>\n",
              "    <tr>\n",
              "      <th>std</th>\n",
              "      <td>214.375076</td>\n",
              "      <td>4.326119e+05</td>\n",
              "      <td>215.852412</td>\n",
              "      <td>223.456375</td>\n",
              "      <td>205.777031</td>\n",
              "    </tr>\n",
              "    <tr>\n",
              "      <th>min</th>\n",
              "      <td>92.200000</td>\n",
              "      <td>2.340600e+04</td>\n",
              "      <td>91.760000</td>\n",
              "      <td>104.150000</td>\n",
              "      <td>90.000000</td>\n",
              "    </tr>\n",
              "    <tr>\n",
              "      <th>25%</th>\n",
              "      <td>133.652500</td>\n",
              "      <td>7.130175e+04</td>\n",
              "      <td>133.337500</td>\n",
              "      <td>135.092500</td>\n",
              "      <td>131.700000</td>\n",
              "    </tr>\n",
              "    <tr>\n",
              "      <th>50%</th>\n",
              "      <td>147.340000</td>\n",
              "      <td>1.233550e+05</td>\n",
              "      <td>147.360000</td>\n",
              "      <td>148.710000</td>\n",
              "      <td>145.430000</td>\n",
              "    </tr>\n",
              "    <tr>\n",
              "      <th>75%</th>\n",
              "      <td>394.887500</td>\n",
              "      <td>4.973988e+05</td>\n",
              "      <td>398.872500</td>\n",
              "      <td>411.500000</td>\n",
              "      <td>384.827500</td>\n",
              "    </tr>\n",
              "    <tr>\n",
              "      <th>max</th>\n",
              "      <td>1272.940000</td>\n",
              "      <td>4.692910e+06</td>\n",
              "      <td>1196.010000</td>\n",
              "      <td>1315.000000</td>\n",
              "      <td>1065.407000</td>\n",
              "    </tr>\n",
              "  </tbody>\n",
              "</table>\n",
              "</div>\n",
              "      <button class=\"colab-df-convert\" onclick=\"convertToInteractive('df-02e2551a-14fa-47c9-b470-7680843ec282')\"\n",
              "              title=\"Convert this dataframe to an interactive table.\"\n",
              "              style=\"display:none;\">\n",
              "        \n",
              "  <svg xmlns=\"http://www.w3.org/2000/svg\" height=\"24px\"viewBox=\"0 0 24 24\"\n",
              "       width=\"24px\">\n",
              "    <path d=\"M0 0h24v24H0V0z\" fill=\"none\"/>\n",
              "    <path d=\"M18.56 5.44l.94 2.06.94-2.06 2.06-.94-2.06-.94-.94-2.06-.94 2.06-2.06.94zm-11 1L8.5 8.5l.94-2.06 2.06-.94-2.06-.94L8.5 2.5l-.94 2.06-2.06.94zm10 10l.94 2.06.94-2.06 2.06-.94-2.06-.94-.94-2.06-.94 2.06-2.06.94z\"/><path d=\"M17.41 7.96l-1.37-1.37c-.4-.4-.92-.59-1.43-.59-.52 0-1.04.2-1.43.59L10.3 9.45l-7.72 7.72c-.78.78-.78 2.05 0 2.83L4 21.41c.39.39.9.59 1.41.59.51 0 1.02-.2 1.41-.59l7.78-7.78 2.81-2.81c.8-.78.8-2.07 0-2.86zM5.41 20L4 18.59l7.72-7.72 1.47 1.35L5.41 20z\"/>\n",
              "  </svg>\n",
              "      </button>\n",
              "      \n",
              "  <style>\n",
              "    .colab-df-container {\n",
              "      display:flex;\n",
              "      flex-wrap:wrap;\n",
              "      gap: 12px;\n",
              "    }\n",
              "\n",
              "    .colab-df-convert {\n",
              "      background-color: #E8F0FE;\n",
              "      border: none;\n",
              "      border-radius: 50%;\n",
              "      cursor: pointer;\n",
              "      display: none;\n",
              "      fill: #1967D2;\n",
              "      height: 32px;\n",
              "      padding: 0 0 0 0;\n",
              "      width: 32px;\n",
              "    }\n",
              "\n",
              "    .colab-df-convert:hover {\n",
              "      background-color: #E2EBFA;\n",
              "      box-shadow: 0px 1px 2px rgba(60, 64, 67, 0.3), 0px 1px 3px 1px rgba(60, 64, 67, 0.15);\n",
              "      fill: #174EA6;\n",
              "    }\n",
              "\n",
              "    [theme=dark] .colab-df-convert {\n",
              "      background-color: #3B4455;\n",
              "      fill: #D2E3FC;\n",
              "    }\n",
              "\n",
              "    [theme=dark] .colab-df-convert:hover {\n",
              "      background-color: #434B5C;\n",
              "      box-shadow: 0px 1px 3px 1px rgba(0, 0, 0, 0.15);\n",
              "      filter: drop-shadow(0px 1px 2px rgba(0, 0, 0, 0.3));\n",
              "      fill: #FFFFFF;\n",
              "    }\n",
              "  </style>\n",
              "\n",
              "      <script>\n",
              "        const buttonEl =\n",
              "          document.querySelector('#df-02e2551a-14fa-47c9-b470-7680843ec282 button.colab-df-convert');\n",
              "        buttonEl.style.display =\n",
              "          google.colab.kernel.accessAllowed ? 'block' : 'none';\n",
              "\n",
              "        async function convertToInteractive(key) {\n",
              "          const element = document.querySelector('#df-02e2551a-14fa-47c9-b470-7680843ec282');\n",
              "          const dataTable =\n",
              "            await google.colab.kernel.invokeFunction('convertToInteractive',\n",
              "                                                     [key], {});\n",
              "          if (!dataTable) return;\n",
              "\n",
              "          const docLinkHtml = 'Like what you see? Visit the ' +\n",
              "            '<a target=\"_blank\" href=https://colab.research.google.com/notebooks/data_table.ipynb>data table notebook</a>'\n",
              "            + ' to learn more about interactive tables.';\n",
              "          element.innerHTML = '';\n",
              "          dataTable['output_type'] = 'display_data';\n",
              "          await google.colab.output.renderOutput(dataTable, element);\n",
              "          const docLink = document.createElement('div');\n",
              "          docLink.innerHTML = docLinkHtml;\n",
              "          element.appendChild(docLink);\n",
              "        }\n",
              "      </script>\n",
              "    </div>\n",
              "  </div>\n",
              "  "
            ]
          },
          "metadata": {},
          "execution_count": 8
        }
      ]
    },
    {
      "cell_type": "code",
      "source": [
        "msrt_data.info()"
      ],
      "metadata": {
        "colab": {
          "base_uri": "https://localhost:8080/"
        },
        "id": "8mjgfr5Dv8Mr",
        "outputId": "7b23932d-48f0-4104-929d-00aaf7fd6eae"
      },
      "execution_count": null,
      "outputs": [
        {
          "output_type": "stream",
          "name": "stdout",
          "text": [
            "<class 'pandas.core.frame.DataFrame'>\n",
            "RangeIndex: 1258 entries, 0 to 1257\n",
            "Data columns (total 6 columns):\n",
            " #   Column      Non-Null Count  Dtype  \n",
            "---  ------      --------------  -----  \n",
            " 0   Date        1258 non-null   object \n",
            " 1   Close/Last  1258 non-null   float64\n",
            " 2   Volume      1258 non-null   int64  \n",
            " 3   Open        1258 non-null   float64\n",
            " 4   High        1258 non-null   float64\n",
            " 5   Low         1258 non-null   float64\n",
            "dtypes: float64(4), int64(1), object(1)\n",
            "memory usage: 59.1+ KB\n"
          ]
        }
      ]
    },
    {
      "cell_type": "code",
      "source": [
        "index = msrt_data.index[::-1]\n",
        "msrt_data.index = index"
      ],
      "metadata": {
        "id": "KXYTDOTFv-ef"
      },
      "execution_count": null,
      "outputs": []
    },
    {
      "cell_type": "code",
      "source": [
        "sns.set()\n",
        "fig, ax = plt.subplots(figsize=(10, 5))\n",
        "ax.set_title('MSRT HISTORICAL PRICE')\n",
        "ax.set_xlabel('DAYS')\n",
        "ax.set_ylabel('CLOSE/LAST PRICE')\n",
        "plt.plot(index, msrt_data['Close/Last'])"
      ],
      "metadata": {
        "colab": {
          "base_uri": "https://localhost:8080/",
          "height": 373
        },
        "id": "d0-wFHARsdn2",
        "outputId": "70afe533-5506-4553-b6c4-b4901e933482"
      },
      "execution_count": null,
      "outputs": [
        {
          "output_type": "execute_result",
          "data": {
            "text/plain": [
              "[<matplotlib.lines.Line2D at 0x7fc9c75a52d0>]"
            ]
          },
          "metadata": {},
          "execution_count": 34
        },
        {
          "output_type": "display_data",
          "data": {
            "text/plain": [
              "<Figure size 720x360 with 1 Axes>"
            ],
            "image/png": "[encoded data removed]"
          },
          "metadata": {}
        }
      ]
    },
    {
      "cell_type": "code",
      "source": [
        "msrt_lastprice = msrt_data['Close/Last']"
      ],
      "metadata": {
        "id": "pAtQqqJBwPc2"
      },
      "execution_count": null,
      "outputs": []
    },
    {
      "cell_type": "code",
      "source": [
        "msrt_lastprice.index = index\n",
        "msrt_lastprice.tail()"
      ],
      "metadata": {
        "colab": {
          "base_uri": "https://localhost:8080/"
        },
        "id": "HJ_8G2GSw5Os",
        "outputId": "62e730a8-a02f-421a-9dd5-5d770c80343c"
      },
      "execution_count": null,
      "outputs": [
        {
          "output_type": "execute_result",
          "data": {
            "text/plain": [
              "4    135.81\n",
              "3    140.86\n",
              "2    140.96\n",
              "1    137.85\n",
              "0    137.04\n",
              "Name: Close/Last, dtype: float64"
            ]
          },
          "metadata": {},
          "execution_count": 45
        }
      ]
    },
    {
      "cell_type": "markdown",
      "source": [
        "#Creamos una variable para predecir \"n\" dias en el futuro.\n",
        "Lo que hacemos, es eliminar los datos de los ultimos 20 dias para intentar predecirlos, nuestro programa va a intentar replicar la realidad de la manera mas precisa posible."
      ],
      "metadata": {
        "id": "KfZmr163-N4R"
      }
    },
    {
      "cell_type": "code",
      "source": [
        "future_days = 20\n",
        "\n",
        "msrt_prediction = msrt_lastprice.shift(future_days)\n",
        "msrt_prediction.tail()"
      ],
      "metadata": {
        "colab": {
          "base_uri": "https://localhost:8080/"
        },
        "id": "ZUW9_bLR-Ycs",
        "outputId": "35e48a54-ae8c-4629-cb50-4acac6fc4db6"
      },
      "execution_count": null,
      "outputs": [
        {
          "output_type": "execute_result",
          "data": {
            "text/plain": [
              "4    138.20\n",
              "3    136.30\n",
              "2    137.43\n",
              "1    137.46\n",
              "0    137.00\n",
              "Name: Close/Last, dtype: float64"
            ]
          },
          "metadata": {},
          "execution_count": 37
        }
      ]
    },
    {
      "cell_type": "markdown",
      "source": [
        "# Nuestra variable x e y seran el dataset limpio con el que trabajaremos, sin los datos nulos."
      ],
      "metadata": {
        "id": "qh3XyhUquR3B"
      }
    },
    {
      "cell_type": "code",
      "source": [
        "x = np.array(msrt_lastprice[future_days:])\n",
        "x_reshape = x.reshape(-1,1)\n",
        "y = np.array(msrt_prediction[future_days:])\n",
        "data = {'Real':x, 'Prediction':y}\n",
        "msrt_final_df = pd.DataFrame(data, index=index[future_days:])\n",
        "print(msrt_final_df.head())"
      ],
      "metadata": {
        "colab": {
          "base_uri": "https://localhost:8080/"
        },
        "id": "S34-Iyijs9us",
        "outputId": "f69a39ae-5ef1-420c-dfd2-446294c31111"
      },
      "execution_count": null,
      "outputs": [
        {
          "output_type": "stream",
          "name": "stdout",
          "text": [
            "        Real  Prediction\n",
            "1237  191.45      232.62\n",
            "1236  192.32      221.01\n",
            "1235  195.92      226.08\n",
            "1234  196.60      235.00\n",
            "1233  206.20      221.13\n"
          ]
        }
      ]
    },
    {
      "cell_type": "markdown",
      "source": [
        "# Dividimos el dataset en datos de entrenamiento (75%) y datos de testeo (25%)"
      ],
      "metadata": {
        "id": "iCIekI50zv5X"
      }
    },
    {
      "cell_type": "code",
      "source": [
        "xtrain, xtest, ytrain, ytest = train_test_split(x_reshape, y, test_size=0.25)"
      ],
      "metadata": {
        "id": "MF0Ri_dryjkk"
      },
      "execution_count": null,
      "outputs": []
    },
    {
      "cell_type": "markdown",
      "source": [
        "# Creamos el modelo de regresion lineal y el arbol de decision, son los dos modelos que ocuparemos, luego decidiremos con cual nos quedamos."
      ],
      "metadata": {
        "id": "v4pqPuGH0Sm5"
      }
    },
    {
      "cell_type": "code",
      "source": [
        "linear_regression = LinearRegression().fit(xtrain, ytrain)\n",
        "decision_tree = DecisionTreeRegressor().fit(xtrain, ytrain)"
      ],
      "metadata": {
        "id": "rpDhMHg-0pkY"
      },
      "execution_count": null,
      "outputs": []
    },
    {
      "cell_type": "markdown",
      "source": [
        "# Creamos una variable con las primeras n filas del dataset\n"
      ],
      "metadata": {
        "id": "h3nieG8BHBwi"
      }
    },
    {
      "cell_type": "code",
      "source": [
        "last_rows = msrt_lastprice[:future_days]\n",
        "last_rows = np.array(last_rows).reshape(-1,1)"
      ],
      "metadata": {
        "id": "hPRZP9k_DhEB"
      },
      "execution_count": null,
      "outputs": []
    },
    {
      "cell_type": "markdown",
      "source": [
        "# Prediccion del arbol decision"
      ],
      "metadata": {
        "id": "xMi73CPBKgRx"
      }
    },
    {
      "cell_type": "code",
      "source": [
        "decision_tree_prediction = decision_tree.predict(last_rows)\n",
        "decision_tree_prediction"
      ],
      "metadata": {
        "colab": {
          "base_uri": "https://localhost:8080/"
        },
        "id": "xV9K9ORkKeg8",
        "outputId": "5a4ef5c5-c3b0-4d69-eb95-5d1b2ba73794"
      },
      "execution_count": null,
      "outputs": [
        {
          "output_type": "execute_result",
          "data": {
            "text/plain": [
              "array([221.28, 212.26, 349.08, 241.67, 319.15, 299.12, 331.5 , 242.19,\n",
              "       196.73, 331.5 , 331.5 , 265.8 , 265.8 , 200.18, 171.34, 167.6 ,\n",
              "       167.6 , 331.5 , 221.13, 330.01])"
            ]
          },
          "metadata": {},
          "execution_count": 42
        }
      ]
    },
    {
      "cell_type": "markdown",
      "source": [
        "# Prediccion de la regresion lineal"
      ],
      "metadata": {
        "id": "vLeSZWtJLWW8"
      }
    },
    {
      "cell_type": "code",
      "source": [
        "linear_regression_prediction = linear_regression.predict(last_rows)\n",
        "linear_regression_prediction"
      ],
      "metadata": {
        "colab": {
          "base_uri": "https://localhost:8080/"
        },
        "id": "w3oQ2GfgJD5U",
        "outputId": "ea3182a6-0b2b-46d3-f17f-e6278850cce5"
      },
      "execution_count": null,
      "outputs": [
        {
          "output_type": "execute_result",
          "data": {
            "text/plain": [
              "array([238.25255906, 227.72211231, 232.3206795 , 240.4112553 ,\n",
              "       227.83095414, 217.1100342 , 227.29581516, 225.33666228,\n",
              "       223.51356168, 227.39558683, 227.07813151, 246.46104684,\n",
              "       246.93269475, 252.87364447, 230.90573575, 219.78572911,\n",
              "       219.38664241, 227.23232409, 214.17130487, 208.8289852 ])"
            ]
          },
          "metadata": {},
          "execution_count": 43
        }
      ]
    },
    {
      "cell_type": "code",
      "source": [
        "predictions = decision_tree_prediction\n",
        "valid_dcst = msrt_data[:future_days]\n",
        "valid_dcst['Predictions'] = predictions\n",
        "\n",
        "fig, ax = plt.subplots(figsize=(15, 10))\n",
        "ax.set_title('Prediccion de los precios de MSRT mediante arbol de regresion')\n",
        "ax.set_xlabel('Dias')\n",
        "ax.set_ylabel('Precio de cierre (USD)')\n",
        "plt.plot(msrt_lastprice)\n",
        "plt.plot(valid_dcst[['Close/Last','Predictions']])\n",
        "ax.legend(['Original', 'Valido', 'Prediccion'])\n",
        "plt.show()"
      ],
      "metadata": {
        "colab": {
          "base_uri": "https://localhost:8080/",
          "height": 737
        },
        "id": "8Xo4qxsEDoPR",
        "outputId": "8139baf0-262b-446f-ddfb-55a5d9b9c5d9"
      },
      "execution_count": null,
      "outputs": [
        {
          "output_type": "stream",
          "name": "stderr",
          "text": [
            "/usr/local/lib/python3.7/dist-packages/ipykernel_launcher.py:3: SettingWithCopyWarning: \n",
            "A value is trying to be set on a copy of a slice from a DataFrame.\n",
            "Try using .loc[row_indexer,col_indexer] = value instead\n",
            "\n",
            "See the caveats in the documentation: https://pandas.pydata.org/pandas-docs/stable/user_guide/indexing.html#returning-a-view-versus-a-copy\n",
            "  This is separate from the ipykernel package so we can avoid doing imports until\n"
          ]
        },
        {
          "output_type": "display_data",
          "data": {
            "text/plain": [
              "<Figure size 1080x720 with 1 Axes>"
            ],
            "image/png": "[encoded data removed]"
          },
          "metadata": {}
        }
      ]
    },
    {
      "cell_type": "markdown",
      "source": [
        "# Prediccion de la regresion lineal"
      ],
      "metadata": {
        "id": "GpoyIcBi0pZS"
      }
    },
    {
      "cell_type": "code",
      "source": [
        "predictions = linear_regression_prediction\n",
        "valid_lnr = msrt_data[:future_days]\n",
        "valid_lnr['Predictions'] = predictions\n",
        "\n",
        "fig, ax = plt.subplots(figsize=(15, 10))\n",
        "ax.set_title('Prediccion de los precios de MSRT mediante regresion lineal')\n",
        "ax.set_xlabel('Dias')\n",
        "ax.set_ylabel('Precio de cierre (USD)')\n",
        "plt.plot(msrt_lastprice)\n",
        "plt.plot(valid_lnr[['Close/Last','Predictions']])\n",
        "ax.legend(['Original', 'Valido', 'Prediccion'])\n",
        "plt.show()"
      ],
      "metadata": {
        "colab": {
          "base_uri": "https://localhost:8080/",
          "height": 737
        },
        "id": "zHqaxzLWpG-k",
        "outputId": "90b39ea2-cc75-44fe-de32-6b39ebe5d750"
      },
      "execution_count": null,
      "outputs": [
        {
          "output_type": "stream",
          "name": "stderr",
          "text": [
            "/usr/local/lib/python3.7/dist-packages/ipykernel_launcher.py:3: SettingWithCopyWarning: \n",
            "A value is trying to be set on a copy of a slice from a DataFrame.\n",
            "Try using .loc[row_indexer,col_indexer] = value instead\n",
            "\n",
            "See the caveats in the documentation: https://pandas.pydata.org/pandas-docs/stable/user_guide/indexing.html#returning-a-view-versus-a-copy\n",
            "  This is separate from the ipykernel package so we can avoid doing imports until\n"
          ]
        },
        {
          "output_type": "display_data",
          "data": {
            "text/plain": [
              "<Figure size 1080x720 with 1 Axes>"
            ],
            "image/png": "[encoded data removed]"
          },
          "metadata": {}
        }
      ]
    }
  ]
}